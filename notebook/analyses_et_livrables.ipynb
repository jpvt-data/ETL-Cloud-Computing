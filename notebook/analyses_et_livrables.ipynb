{
 "cells": [
  {
   "cell_type": "markdown",
   "metadata": {},
   "source": [
    "# ETL - Cloud Computing : Analyses et Livrables"
   ]
  },
  {
   "cell_type": "markdown",
   "metadata": {},
   "source": [
    "## Etapes\n",
    "\n",
    "### 1. Analyse et Modélisation des données brutes\n",
    "\n",
    "\n",
    "---"
   ]
  },
  {
   "cell_type": "markdown",
   "metadata": {},
   "source": [
    "## 1. Analyse et Modélisation des données"
   ]
  },
  {
   "cell_type": "markdown",
   "metadata": {},
   "source": [
    "### 1.1 Analyse des données brutes\n",
    "\n",
    "Cette étape vise à explorer et analyser les fichiers CSV bruts fournis, identifier les relations, créer le schéma de la structure de la base de données, afin de préparer la modélisation des données."
   ]
  },
  {
   "cell_type": "markdown",
   "metadata": {},
   "source": [
    "#### Import des données"
   ]
  },
  {
   "cell_type": "code",
   "execution_count": 127,
   "metadata": {},
   "outputs": [],
   "source": [
    "import pandas as pd\n",
    "\n",
    "# Charger les fichiers CSV dans des DataFrames\n",
    "df_customers = pd.read_csv(\"../data/datasets/raw_customers.csv\")\n",
    "df_items = pd.read_csv(\"../data/datasets/raw_items.csv\")\n",
    "df_orders = pd.read_csv(\"../data/datasets/raw_orders.csv\", parse_dates=['ordered_at']) # Forcer la conversion au format date\n",
    "df_products = pd.read_csv(\"../data/datasets/raw_products.csv\")\n",
    "df_stores = pd.read_csv(\"../data/datasets/raw_stores.csv\", parse_dates=['opened_at']) # Forcer la conversion au format date\n",
    "df_supplies = pd.read_csv(\"../data/datasets/raw_supplies.csv\")"
   ]
  },
  {
   "cell_type": "markdown",
   "metadata": {},
   "source": [
    "#### Table `customers`"
   ]
  },
  {
   "cell_type": "code",
   "execution_count": 128,
   "metadata": {},
   "outputs": [
    {
     "name": "stdout",
     "output_type": "stream",
     "text": [
      "<class 'pandas.core.frame.DataFrame'>\n",
      "RangeIndex: 930 entries, 0 to 929\n",
      "Data columns (total 2 columns):\n",
      " #   Column  Non-Null Count  Dtype \n",
      "---  ------  --------------  ----- \n",
      " 0   id      930 non-null    object\n",
      " 1   name    930 non-null    object\n",
      "dtypes: object(2)\n",
      "memory usage: 14.7+ KB\n"
     ]
    }
   ],
   "source": [
    "df_customers.info()"
   ]
  },
  {
   "cell_type": "code",
   "execution_count": 129,
   "metadata": {},
   "outputs": [
    {
     "data": {
      "text/html": [
       "<div>\n",
       "<style scoped>\n",
       "    .dataframe tbody tr th:only-of-type {\n",
       "        vertical-align: middle;\n",
       "    }\n",
       "\n",
       "    .dataframe tbody tr th {\n",
       "        vertical-align: top;\n",
       "    }\n",
       "\n",
       "    .dataframe thead th {\n",
       "        text-align: right;\n",
       "    }\n",
       "</style>\n",
       "<table border=\"1\" class=\"dataframe\">\n",
       "  <thead>\n",
       "    <tr style=\"text-align: right;\">\n",
       "      <th></th>\n",
       "      <th>id</th>\n",
       "      <th>name</th>\n",
       "    </tr>\n",
       "  </thead>\n",
       "  <tbody>\n",
       "    <tr>\n",
       "      <th>0</th>\n",
       "      <td>ae3a050d-287f-4257-a778-cdb4206aa012</td>\n",
       "      <td>Anthony Wells</td>\n",
       "    </tr>\n",
       "    <tr>\n",
       "      <th>1</th>\n",
       "      <td>33a51363-1989-4967-93a1-b8e225b91e84</td>\n",
       "      <td>Scott Thompson</td>\n",
       "    </tr>\n",
       "    <tr>\n",
       "      <th>2</th>\n",
       "      <td>2f8f7de0-4c62-4b87-8494-6a50d68052ad</td>\n",
       "      <td>Michael Walker</td>\n",
       "    </tr>\n",
       "    <tr>\n",
       "      <th>3</th>\n",
       "      <td>46f7be1b-f2bc-4a91-a7c3-88c141564e31</td>\n",
       "      <td>Alicia Clark</td>\n",
       "    </tr>\n",
       "    <tr>\n",
       "      <th>4</th>\n",
       "      <td>c616a2a2-5efc-4e22-9db1-50dfa4d331d1</td>\n",
       "      <td>Dawn Williams</td>\n",
       "    </tr>\n",
       "  </tbody>\n",
       "</table>\n",
       "</div>"
      ],
      "text/plain": [
       "                                     id            name\n",
       "0  ae3a050d-287f-4257-a778-cdb4206aa012   Anthony Wells\n",
       "1  33a51363-1989-4967-93a1-b8e225b91e84  Scott Thompson\n",
       "2  2f8f7de0-4c62-4b87-8494-6a50d68052ad  Michael Walker\n",
       "3  46f7be1b-f2bc-4a91-a7c3-88c141564e31    Alicia Clark\n",
       "4  c616a2a2-5efc-4e22-9db1-50dfa4d331d1   Dawn Williams"
      ]
     },
     "execution_count": 129,
     "metadata": {},
     "output_type": "execute_result"
    }
   ],
   "source": [
    "df_customers.head()"
   ]
  },
  {
   "cell_type": "code",
   "execution_count": 130,
   "metadata": {},
   "outputs": [
    {
     "data": {
      "text/plain": [
       "np.int64(0)"
      ]
     },
     "execution_count": 130,
     "metadata": {},
     "output_type": "execute_result"
    }
   ],
   "source": [
    "# Vérification des doublons pour 'id'\n",
    "df_customers['id'].duplicated().sum()"
   ]
  },
  {
   "cell_type": "markdown",
   "metadata": {},
   "source": [
    "#### Table `items`"
   ]
  },
  {
   "cell_type": "code",
   "execution_count": 131,
   "metadata": {},
   "outputs": [
    {
     "name": "stdout",
     "output_type": "stream",
     "text": [
      "<class 'pandas.core.frame.DataFrame'>\n",
      "RangeIndex: 90183 entries, 0 to 90182\n",
      "Data columns (total 3 columns):\n",
      " #   Column    Non-Null Count  Dtype \n",
      "---  ------    --------------  ----- \n",
      " 0   id        90183 non-null  object\n",
      " 1   order_id  90183 non-null  object\n",
      " 2   sku       90183 non-null  object\n",
      "dtypes: object(3)\n",
      "memory usage: 2.1+ MB\n"
     ]
    }
   ],
   "source": [
    "df_items.info()"
   ]
  },
  {
   "cell_type": "code",
   "execution_count": 132,
   "metadata": {},
   "outputs": [
    {
     "data": {
      "text/html": [
       "<div>\n",
       "<style scoped>\n",
       "    .dataframe tbody tr th:only-of-type {\n",
       "        vertical-align: middle;\n",
       "    }\n",
       "\n",
       "    .dataframe tbody tr th {\n",
       "        vertical-align: top;\n",
       "    }\n",
       "\n",
       "    .dataframe thead th {\n",
       "        text-align: right;\n",
       "    }\n",
       "</style>\n",
       "<table border=\"1\" class=\"dataframe\">\n",
       "  <thead>\n",
       "    <tr style=\"text-align: right;\">\n",
       "      <th></th>\n",
       "      <th>id</th>\n",
       "      <th>order_id</th>\n",
       "      <th>sku</th>\n",
       "    </tr>\n",
       "  </thead>\n",
       "  <tbody>\n",
       "    <tr>\n",
       "      <th>0</th>\n",
       "      <td>6136835c-cfa4-4308-bd65-440f7b4cc232</td>\n",
       "      <td>363ab5f2-78b4-4227-9333-9701ef388434</td>\n",
       "      <td>BEV-001</td>\n",
       "    </tr>\n",
       "    <tr>\n",
       "      <th>1</th>\n",
       "      <td>1a5fc7f0-1573-454a-ae79-576673c280ed</td>\n",
       "      <td>363ab5f2-78b4-4227-9333-9701ef388434</td>\n",
       "      <td>JAF-002</td>\n",
       "    </tr>\n",
       "    <tr>\n",
       "      <th>2</th>\n",
       "      <td>d32d93ca-250b-47b2-b640-cb482eb59f8f</td>\n",
       "      <td>d6cdb882-aa8c-4b5a-a478-4321eff284e6</td>\n",
       "      <td>BEV-001</td>\n",
       "    </tr>\n",
       "    <tr>\n",
       "      <th>3</th>\n",
       "      <td>8dabb27c-fcc2-4513-8adf-886cdc5693aa</td>\n",
       "      <td>ca934a93-aca1-4aeb-9786-efb0da1ee26a</td>\n",
       "      <td>BEV-004</td>\n",
       "    </tr>\n",
       "    <tr>\n",
       "      <th>4</th>\n",
       "      <td>6849a62f-43ee-464c-8f1f-9d597f636e3b</td>\n",
       "      <td>ecd64383-c4df-41aa-b270-f3b110057558</td>\n",
       "      <td>BEV-002</td>\n",
       "    </tr>\n",
       "  </tbody>\n",
       "</table>\n",
       "</div>"
      ],
      "text/plain": [
       "                                     id                              order_id  \\\n",
       "0  6136835c-cfa4-4308-bd65-440f7b4cc232  363ab5f2-78b4-4227-9333-9701ef388434   \n",
       "1  1a5fc7f0-1573-454a-ae79-576673c280ed  363ab5f2-78b4-4227-9333-9701ef388434   \n",
       "2  d32d93ca-250b-47b2-b640-cb482eb59f8f  d6cdb882-aa8c-4b5a-a478-4321eff284e6   \n",
       "3  8dabb27c-fcc2-4513-8adf-886cdc5693aa  ca934a93-aca1-4aeb-9786-efb0da1ee26a   \n",
       "4  6849a62f-43ee-464c-8f1f-9d597f636e3b  ecd64383-c4df-41aa-b270-f3b110057558   \n",
       "\n",
       "       sku  \n",
       "0  BEV-001  \n",
       "1  JAF-002  \n",
       "2  BEV-001  \n",
       "3  BEV-004  \n",
       "4  BEV-002  "
      ]
     },
     "execution_count": 132,
     "metadata": {},
     "output_type": "execute_result"
    }
   ],
   "source": [
    "df_items.head()"
   ]
  },
  {
   "cell_type": "code",
   "execution_count": 133,
   "metadata": {},
   "outputs": [
    {
     "data": {
      "text/plain": [
       "np.int64(0)"
      ]
     },
     "execution_count": 133,
     "metadata": {},
     "output_type": "execute_result"
    }
   ],
   "source": [
    "# Vérification des doublons pour 'id'\n",
    "df_items['id'].duplicated().sum()"
   ]
  },
  {
   "cell_type": "markdown",
   "metadata": {},
   "source": [
    "#### Table `orders`"
   ]
  },
  {
   "cell_type": "code",
   "execution_count": 134,
   "metadata": {},
   "outputs": [
    {
     "name": "stdout",
     "output_type": "stream",
     "text": [
      "<class 'pandas.core.frame.DataFrame'>\n",
      "RangeIndex: 63148 entries, 0 to 63147\n",
      "Data columns (total 4 columns):\n",
      " #   Column      Non-Null Count  Dtype         \n",
      "---  ------      --------------  -----         \n",
      " 0   id          63148 non-null  object        \n",
      " 1   customer    63148 non-null  object        \n",
      " 2   ordered_at  63148 non-null  datetime64[ns]\n",
      " 3   store_id    63148 non-null  object        \n",
      "dtypes: datetime64[ns](1), object(3)\n",
      "memory usage: 1.9+ MB\n"
     ]
    }
   ],
   "source": [
    "df_orders.info()"
   ]
  },
  {
   "cell_type": "code",
   "execution_count": 135,
   "metadata": {},
   "outputs": [
    {
     "data": {
      "text/html": [
       "<div>\n",
       "<style scoped>\n",
       "    .dataframe tbody tr th:only-of-type {\n",
       "        vertical-align: middle;\n",
       "    }\n",
       "\n",
       "    .dataframe tbody tr th {\n",
       "        vertical-align: top;\n",
       "    }\n",
       "\n",
       "    .dataframe thead th {\n",
       "        text-align: right;\n",
       "    }\n",
       "</style>\n",
       "<table border=\"1\" class=\"dataframe\">\n",
       "  <thead>\n",
       "    <tr style=\"text-align: right;\">\n",
       "      <th></th>\n",
       "      <th>id</th>\n",
       "      <th>customer</th>\n",
       "      <th>ordered_at</th>\n",
       "      <th>store_id</th>\n",
       "    </tr>\n",
       "  </thead>\n",
       "  <tbody>\n",
       "    <tr>\n",
       "      <th>0</th>\n",
       "      <td>363ab5f2-78b4-4227-9333-9701ef388434</td>\n",
       "      <td>ae3a050d-287f-4257-a778-cdb4206aa012</td>\n",
       "      <td>2016-09-01 14:49:00</td>\n",
       "      <td>a9128331-08d7-41a2-b615-21283eee21cf</td>\n",
       "    </tr>\n",
       "    <tr>\n",
       "      <th>1</th>\n",
       "      <td>d6cdb882-aa8c-4b5a-a478-4321eff284e6</td>\n",
       "      <td>33a51363-1989-4967-93a1-b8e225b91e84</td>\n",
       "      <td>2016-09-01 08:21:00</td>\n",
       "      <td>a9128331-08d7-41a2-b615-21283eee21cf</td>\n",
       "    </tr>\n",
       "    <tr>\n",
       "      <th>2</th>\n",
       "      <td>ca934a93-aca1-4aeb-9786-efb0da1ee26a</td>\n",
       "      <td>2f8f7de0-4c62-4b87-8494-6a50d68052ad</td>\n",
       "      <td>2016-09-01 08:59:00</td>\n",
       "      <td>a9128331-08d7-41a2-b615-21283eee21cf</td>\n",
       "    </tr>\n",
       "    <tr>\n",
       "      <th>3</th>\n",
       "      <td>ecd64383-c4df-41aa-b270-f3b110057558</td>\n",
       "      <td>46f7be1b-f2bc-4a91-a7c3-88c141564e31</td>\n",
       "      <td>2016-09-01 16:42:00</td>\n",
       "      <td>a9128331-08d7-41a2-b615-21283eee21cf</td>\n",
       "    </tr>\n",
       "    <tr>\n",
       "      <th>4</th>\n",
       "      <td>adae1fcd-20b7-4f40-af1c-dc121d648d4f</td>\n",
       "      <td>c616a2a2-5efc-4e22-9db1-50dfa4d331d1</td>\n",
       "      <td>2016-09-01 09:07:00</td>\n",
       "      <td>a9128331-08d7-41a2-b615-21283eee21cf</td>\n",
       "    </tr>\n",
       "  </tbody>\n",
       "</table>\n",
       "</div>"
      ],
      "text/plain": [
       "                                     id                              customer  \\\n",
       "0  363ab5f2-78b4-4227-9333-9701ef388434  ae3a050d-287f-4257-a778-cdb4206aa012   \n",
       "1  d6cdb882-aa8c-4b5a-a478-4321eff284e6  33a51363-1989-4967-93a1-b8e225b91e84   \n",
       "2  ca934a93-aca1-4aeb-9786-efb0da1ee26a  2f8f7de0-4c62-4b87-8494-6a50d68052ad   \n",
       "3  ecd64383-c4df-41aa-b270-f3b110057558  46f7be1b-f2bc-4a91-a7c3-88c141564e31   \n",
       "4  adae1fcd-20b7-4f40-af1c-dc121d648d4f  c616a2a2-5efc-4e22-9db1-50dfa4d331d1   \n",
       "\n",
       "           ordered_at                              store_id  \n",
       "0 2016-09-01 14:49:00  a9128331-08d7-41a2-b615-21283eee21cf  \n",
       "1 2016-09-01 08:21:00  a9128331-08d7-41a2-b615-21283eee21cf  \n",
       "2 2016-09-01 08:59:00  a9128331-08d7-41a2-b615-21283eee21cf  \n",
       "3 2016-09-01 16:42:00  a9128331-08d7-41a2-b615-21283eee21cf  \n",
       "4 2016-09-01 09:07:00  a9128331-08d7-41a2-b615-21283eee21cf  "
      ]
     },
     "execution_count": 135,
     "metadata": {},
     "output_type": "execute_result"
    }
   ],
   "source": [
    "df_orders.head()"
   ]
  },
  {
   "cell_type": "code",
   "execution_count": 136,
   "metadata": {},
   "outputs": [
    {
     "data": {
      "text/plain": [
       "np.int64(0)"
      ]
     },
     "execution_count": 136,
     "metadata": {},
     "output_type": "execute_result"
    }
   ],
   "source": [
    "# Vérification des doublons pour 'id'\n",
    "df_orders['id'].duplicated().sum()"
   ]
  },
  {
   "cell_type": "markdown",
   "metadata": {},
   "source": [
    "#### Table `products`"
   ]
  },
  {
   "cell_type": "code",
   "execution_count": 137,
   "metadata": {},
   "outputs": [
    {
     "name": "stdout",
     "output_type": "stream",
     "text": [
      "<class 'pandas.core.frame.DataFrame'>\n",
      "RangeIndex: 10 entries, 0 to 9\n",
      "Data columns (total 5 columns):\n",
      " #   Column       Non-Null Count  Dtype \n",
      "---  ------       --------------  ----- \n",
      " 0   sku          10 non-null     object\n",
      " 1   name         10 non-null     object\n",
      " 2   type         10 non-null     object\n",
      " 3   price        10 non-null     int64 \n",
      " 4   description  10 non-null     object\n",
      "dtypes: int64(1), object(4)\n",
      "memory usage: 532.0+ bytes\n"
     ]
    }
   ],
   "source": [
    "df_products.info()"
   ]
  },
  {
   "cell_type": "code",
   "execution_count": 138,
   "metadata": {},
   "outputs": [
    {
     "data": {
      "text/html": [
       "<div>\n",
       "<style scoped>\n",
       "    .dataframe tbody tr th:only-of-type {\n",
       "        vertical-align: middle;\n",
       "    }\n",
       "\n",
       "    .dataframe tbody tr th {\n",
       "        vertical-align: top;\n",
       "    }\n",
       "\n",
       "    .dataframe thead th {\n",
       "        text-align: right;\n",
       "    }\n",
       "</style>\n",
       "<table border=\"1\" class=\"dataframe\">\n",
       "  <thead>\n",
       "    <tr style=\"text-align: right;\">\n",
       "      <th></th>\n",
       "      <th>sku</th>\n",
       "      <th>name</th>\n",
       "      <th>type</th>\n",
       "      <th>price</th>\n",
       "      <th>description</th>\n",
       "    </tr>\n",
       "  </thead>\n",
       "  <tbody>\n",
       "    <tr>\n",
       "      <th>0</th>\n",
       "      <td>JAF-001</td>\n",
       "      <td>nutellaphone who dis?</td>\n",
       "      <td>jaffle</td>\n",
       "      <td>1100</td>\n",
       "      <td>nutella and banana jaffle</td>\n",
       "    </tr>\n",
       "    <tr>\n",
       "      <th>1</th>\n",
       "      <td>JAF-002</td>\n",
       "      <td>doctor stew</td>\n",
       "      <td>jaffle</td>\n",
       "      <td>1100</td>\n",
       "      <td>house-made beef stew jaffle</td>\n",
       "    </tr>\n",
       "    <tr>\n",
       "      <th>2</th>\n",
       "      <td>JAF-003</td>\n",
       "      <td>the krautback</td>\n",
       "      <td>jaffle</td>\n",
       "      <td>1200</td>\n",
       "      <td>lamb and pork bratwurst with house-pickled cab...</td>\n",
       "    </tr>\n",
       "    <tr>\n",
       "      <th>3</th>\n",
       "      <td>JAF-004</td>\n",
       "      <td>flame impala</td>\n",
       "      <td>jaffle</td>\n",
       "      <td>1400</td>\n",
       "      <td>pulled pork and pineapple al pastor marinated ...</td>\n",
       "    </tr>\n",
       "    <tr>\n",
       "      <th>4</th>\n",
       "      <td>JAF-005</td>\n",
       "      <td>mel-bun</td>\n",
       "      <td>jaffle</td>\n",
       "      <td>1200</td>\n",
       "      <td>melon and minced beef bao, in a jaffle, savory...</td>\n",
       "    </tr>\n",
       "  </tbody>\n",
       "</table>\n",
       "</div>"
      ],
      "text/plain": [
       "       sku                   name    type  price  \\\n",
       "0  JAF-001  nutellaphone who dis?  jaffle   1100   \n",
       "1  JAF-002            doctor stew  jaffle   1100   \n",
       "2  JAF-003          the krautback  jaffle   1200   \n",
       "3  JAF-004           flame impala  jaffle   1400   \n",
       "4  JAF-005                mel-bun  jaffle   1200   \n",
       "\n",
       "                                         description  \n",
       "0                          nutella and banana jaffle  \n",
       "1                        house-made beef stew jaffle  \n",
       "2  lamb and pork bratwurst with house-pickled cab...  \n",
       "3  pulled pork and pineapple al pastor marinated ...  \n",
       "4  melon and minced beef bao, in a jaffle, savory...  "
      ]
     },
     "execution_count": 138,
     "metadata": {},
     "output_type": "execute_result"
    }
   ],
   "source": [
    "df_products.head()"
   ]
  },
  {
   "cell_type": "code",
   "execution_count": 139,
   "metadata": {},
   "outputs": [
    {
     "data": {
      "text/plain": [
       "np.int64(0)"
      ]
     },
     "execution_count": 139,
     "metadata": {},
     "output_type": "execute_result"
    }
   ],
   "source": [
    "# Vérification des doublons pour 'sku'\n",
    "df_products['sku'].duplicated().sum()"
   ]
  },
  {
   "cell_type": "markdown",
   "metadata": {},
   "source": [
    "#### Table `stores`"
   ]
  },
  {
   "cell_type": "code",
   "execution_count": 140,
   "metadata": {},
   "outputs": [
    {
     "name": "stdout",
     "output_type": "stream",
     "text": [
      "<class 'pandas.core.frame.DataFrame'>\n",
      "RangeIndex: 6 entries, 0 to 5\n",
      "Data columns (total 4 columns):\n",
      " #   Column     Non-Null Count  Dtype         \n",
      "---  ------     --------------  -----         \n",
      " 0   id         6 non-null      object        \n",
      " 1   name       6 non-null      object        \n",
      " 2   opened_at  6 non-null      datetime64[ns]\n",
      " 3   tax_rate   6 non-null      float64       \n",
      "dtypes: datetime64[ns](1), float64(1), object(2)\n",
      "memory usage: 324.0+ bytes\n"
     ]
    }
   ],
   "source": [
    "df_stores.info()"
   ]
  },
  {
   "cell_type": "code",
   "execution_count": 141,
   "metadata": {},
   "outputs": [
    {
     "data": {
      "text/html": [
       "<div>\n",
       "<style scoped>\n",
       "    .dataframe tbody tr th:only-of-type {\n",
       "        vertical-align: middle;\n",
       "    }\n",
       "\n",
       "    .dataframe tbody tr th {\n",
       "        vertical-align: top;\n",
       "    }\n",
       "\n",
       "    .dataframe thead th {\n",
       "        text-align: right;\n",
       "    }\n",
       "</style>\n",
       "<table border=\"1\" class=\"dataframe\">\n",
       "  <thead>\n",
       "    <tr style=\"text-align: right;\">\n",
       "      <th></th>\n",
       "      <th>id</th>\n",
       "      <th>name</th>\n",
       "      <th>opened_at</th>\n",
       "      <th>tax_rate</th>\n",
       "    </tr>\n",
       "  </thead>\n",
       "  <tbody>\n",
       "    <tr>\n",
       "      <th>0</th>\n",
       "      <td>a9128331-08d7-41a2-b615-21283eee21cf</td>\n",
       "      <td>Philadelphia</td>\n",
       "      <td>2016-09-01</td>\n",
       "      <td>0.0600</td>\n",
       "    </tr>\n",
       "    <tr>\n",
       "      <th>1</th>\n",
       "      <td>a2a24e87-dec8-4f5d-9c9e-0e9849529489</td>\n",
       "      <td>Brooklyn</td>\n",
       "      <td>2017-03-12</td>\n",
       "      <td>0.0400</td>\n",
       "    </tr>\n",
       "    <tr>\n",
       "      <th>2</th>\n",
       "      <td>e1a600e7-e70a-43a8-96fd-a6dd263b50df</td>\n",
       "      <td>Chicago</td>\n",
       "      <td>2018-04-29</td>\n",
       "      <td>0.0625</td>\n",
       "    </tr>\n",
       "    <tr>\n",
       "      <th>3</th>\n",
       "      <td>0d16236e-9a7f-4cd6-a9ec-24b16f716316</td>\n",
       "      <td>San Francisco</td>\n",
       "      <td>2018-05-09</td>\n",
       "      <td>0.0750</td>\n",
       "    </tr>\n",
       "    <tr>\n",
       "      <th>4</th>\n",
       "      <td>ca0b89cc-6d98-4b87-88e3-5a0d95c6567f</td>\n",
       "      <td>New Orleans</td>\n",
       "      <td>2019-03-10</td>\n",
       "      <td>0.0400</td>\n",
       "    </tr>\n",
       "  </tbody>\n",
       "</table>\n",
       "</div>"
      ],
      "text/plain": [
       "                                     id           name  opened_at  tax_rate\n",
       "0  a9128331-08d7-41a2-b615-21283eee21cf   Philadelphia 2016-09-01    0.0600\n",
       "1  a2a24e87-dec8-4f5d-9c9e-0e9849529489       Brooklyn 2017-03-12    0.0400\n",
       "2  e1a600e7-e70a-43a8-96fd-a6dd263b50df        Chicago 2018-04-29    0.0625\n",
       "3  0d16236e-9a7f-4cd6-a9ec-24b16f716316  San Francisco 2018-05-09    0.0750\n",
       "4  ca0b89cc-6d98-4b87-88e3-5a0d95c6567f    New Orleans 2019-03-10    0.0400"
      ]
     },
     "execution_count": 141,
     "metadata": {},
     "output_type": "execute_result"
    }
   ],
   "source": [
    "df_stores.head()"
   ]
  },
  {
   "cell_type": "code",
   "execution_count": 142,
   "metadata": {},
   "outputs": [
    {
     "data": {
      "text/plain": [
       "np.int64(0)"
      ]
     },
     "execution_count": 142,
     "metadata": {},
     "output_type": "execute_result"
    }
   ],
   "source": [
    "# Vérification des doublons pour 'id'\n",
    "df_stores['id'].duplicated().sum()"
   ]
  },
  {
   "cell_type": "markdown",
   "metadata": {},
   "source": [
    "#### Table `supplies`"
   ]
  },
  {
   "cell_type": "code",
   "execution_count": 143,
   "metadata": {},
   "outputs": [
    {
     "name": "stdout",
     "output_type": "stream",
     "text": [
      "<class 'pandas.core.frame.DataFrame'>\n",
      "RangeIndex: 65 entries, 0 to 64\n",
      "Data columns (total 5 columns):\n",
      " #   Column      Non-Null Count  Dtype \n",
      "---  ------      --------------  ----- \n",
      " 0   id          65 non-null     object\n",
      " 1   name        65 non-null     object\n",
      " 2   cost        65 non-null     int64 \n",
      " 3   perishable  65 non-null     bool  \n",
      " 4   sku         65 non-null     object\n",
      "dtypes: bool(1), int64(1), object(3)\n",
      "memory usage: 2.2+ KB\n"
     ]
    }
   ],
   "source": [
    "df_supplies.info()"
   ]
  },
  {
   "cell_type": "code",
   "execution_count": 144,
   "metadata": {},
   "outputs": [
    {
     "data": {
      "text/html": [
       "<div>\n",
       "<style scoped>\n",
       "    .dataframe tbody tr th:only-of-type {\n",
       "        vertical-align: middle;\n",
       "    }\n",
       "\n",
       "    .dataframe tbody tr th {\n",
       "        vertical-align: top;\n",
       "    }\n",
       "\n",
       "    .dataframe thead th {\n",
       "        text-align: right;\n",
       "    }\n",
       "</style>\n",
       "<table border=\"1\" class=\"dataframe\">\n",
       "  <thead>\n",
       "    <tr style=\"text-align: right;\">\n",
       "      <th></th>\n",
       "      <th>id</th>\n",
       "      <th>name</th>\n",
       "      <th>cost</th>\n",
       "      <th>perishable</th>\n",
       "      <th>sku</th>\n",
       "    </tr>\n",
       "  </thead>\n",
       "  <tbody>\n",
       "    <tr>\n",
       "      <th>0</th>\n",
       "      <td>SUP-001</td>\n",
       "      <td>compostable cutlery - knife</td>\n",
       "      <td>7</td>\n",
       "      <td>False</td>\n",
       "      <td>JAF-001</td>\n",
       "    </tr>\n",
       "    <tr>\n",
       "      <th>1</th>\n",
       "      <td>SUP-002</td>\n",
       "      <td>cutlery - fork</td>\n",
       "      <td>7</td>\n",
       "      <td>False</td>\n",
       "      <td>JAF-001</td>\n",
       "    </tr>\n",
       "    <tr>\n",
       "      <th>2</th>\n",
       "      <td>SUP-003</td>\n",
       "      <td>serving boat</td>\n",
       "      <td>11</td>\n",
       "      <td>False</td>\n",
       "      <td>JAF-001</td>\n",
       "    </tr>\n",
       "    <tr>\n",
       "      <th>3</th>\n",
       "      <td>SUP-004</td>\n",
       "      <td>napkin</td>\n",
       "      <td>4</td>\n",
       "      <td>False</td>\n",
       "      <td>JAF-001</td>\n",
       "    </tr>\n",
       "    <tr>\n",
       "      <th>4</th>\n",
       "      <td>SUP-009</td>\n",
       "      <td>bread</td>\n",
       "      <td>33</td>\n",
       "      <td>True</td>\n",
       "      <td>JAF-001</td>\n",
       "    </tr>\n",
       "  </tbody>\n",
       "</table>\n",
       "</div>"
      ],
      "text/plain": [
       "        id                         name  cost  perishable      sku\n",
       "0  SUP-001  compostable cutlery - knife     7       False  JAF-001\n",
       "1  SUP-002               cutlery - fork     7       False  JAF-001\n",
       "2  SUP-003                 serving boat    11       False  JAF-001\n",
       "3  SUP-004                       napkin     4       False  JAF-001\n",
       "4  SUP-009                        bread    33        True  JAF-001"
      ]
     },
     "execution_count": 144,
     "metadata": {},
     "output_type": "execute_result"
    }
   ],
   "source": [
    "df_supplies.head()"
   ]
  },
  {
   "cell_type": "code",
   "execution_count": 145,
   "metadata": {},
   "outputs": [
    {
     "data": {
      "text/plain": [
       "np.int64(36)"
      ]
     },
     "execution_count": 145,
     "metadata": {},
     "output_type": "execute_result"
    }
   ],
   "source": [
    "# Vérification des doublons pour 'id'\n",
    "df_supplies['id'].duplicated().sum()"
   ]
  },
  {
   "cell_type": "code",
   "execution_count": 146,
   "metadata": {},
   "outputs": [
    {
     "data": {
      "text/plain": [
       "np.int64(0)"
      ]
     },
     "execution_count": 146,
     "metadata": {},
     "output_type": "execute_result"
    }
   ],
   "source": [
    "df_supplies.duplicated().sum()"
   ]
  },
  {
   "cell_type": "code",
   "execution_count": 147,
   "metadata": {},
   "outputs": [
    {
     "data": {
      "text/html": [
       "<div>\n",
       "<style scoped>\n",
       "    .dataframe tbody tr th:only-of-type {\n",
       "        vertical-align: middle;\n",
       "    }\n",
       "\n",
       "    .dataframe tbody tr th {\n",
       "        vertical-align: top;\n",
       "    }\n",
       "\n",
       "    .dataframe thead th {\n",
       "        text-align: right;\n",
       "    }\n",
       "</style>\n",
       "<table border=\"1\" class=\"dataframe\">\n",
       "  <thead>\n",
       "    <tr style=\"text-align: right;\">\n",
       "      <th></th>\n",
       "      <th>id</th>\n",
       "      <th>name</th>\n",
       "      <th>cost</th>\n",
       "      <th>perishable</th>\n",
       "      <th>sku</th>\n",
       "    </tr>\n",
       "  </thead>\n",
       "  <tbody>\n",
       "    <tr>\n",
       "      <th>0</th>\n",
       "      <td>SUP-001</td>\n",
       "      <td>compostable cutlery - knife</td>\n",
       "      <td>7</td>\n",
       "      <td>False</td>\n",
       "      <td>JAF-001</td>\n",
       "    </tr>\n",
       "    <tr>\n",
       "      <th>1</th>\n",
       "      <td>SUP-002</td>\n",
       "      <td>cutlery - fork</td>\n",
       "      <td>7</td>\n",
       "      <td>False</td>\n",
       "      <td>JAF-001</td>\n",
       "    </tr>\n",
       "    <tr>\n",
       "      <th>2</th>\n",
       "      <td>SUP-003</td>\n",
       "      <td>serving boat</td>\n",
       "      <td>11</td>\n",
       "      <td>False</td>\n",
       "      <td>JAF-001</td>\n",
       "    </tr>\n",
       "    <tr>\n",
       "      <th>3</th>\n",
       "      <td>SUP-004</td>\n",
       "      <td>napkin</td>\n",
       "      <td>4</td>\n",
       "      <td>False</td>\n",
       "      <td>JAF-001</td>\n",
       "    </tr>\n",
       "    <tr>\n",
       "      <th>4</th>\n",
       "      <td>SUP-009</td>\n",
       "      <td>bread</td>\n",
       "      <td>33</td>\n",
       "      <td>True</td>\n",
       "      <td>JAF-001</td>\n",
       "    </tr>\n",
       "    <tr>\n",
       "      <th>7</th>\n",
       "      <td>SUP-001</td>\n",
       "      <td>compostable cutlery - knife</td>\n",
       "      <td>7</td>\n",
       "      <td>False</td>\n",
       "      <td>JAF-002</td>\n",
       "    </tr>\n",
       "    <tr>\n",
       "      <th>8</th>\n",
       "      <td>SUP-002</td>\n",
       "      <td>cutlery - fork</td>\n",
       "      <td>7</td>\n",
       "      <td>False</td>\n",
       "      <td>JAF-002</td>\n",
       "    </tr>\n",
       "    <tr>\n",
       "      <th>9</th>\n",
       "      <td>SUP-003</td>\n",
       "      <td>serving boat</td>\n",
       "      <td>11</td>\n",
       "      <td>False</td>\n",
       "      <td>JAF-002</td>\n",
       "    </tr>\n",
       "    <tr>\n",
       "      <th>10</th>\n",
       "      <td>SUP-004</td>\n",
       "      <td>napkin</td>\n",
       "      <td>4</td>\n",
       "      <td>False</td>\n",
       "      <td>JAF-002</td>\n",
       "    </tr>\n",
       "    <tr>\n",
       "      <th>11</th>\n",
       "      <td>SUP-009</td>\n",
       "      <td>bread</td>\n",
       "      <td>33</td>\n",
       "      <td>True</td>\n",
       "      <td>JAF-002</td>\n",
       "    </tr>\n",
       "    <tr>\n",
       "      <th>12</th>\n",
       "      <td>SUP-010</td>\n",
       "      <td>cheese</td>\n",
       "      <td>20</td>\n",
       "      <td>True</td>\n",
       "      <td>JAF-002</td>\n",
       "    </tr>\n",
       "    <tr>\n",
       "      <th>14</th>\n",
       "      <td>SUP-001</td>\n",
       "      <td>compostable cutlery - knife</td>\n",
       "      <td>7</td>\n",
       "      <td>False</td>\n",
       "      <td>JAF-003</td>\n",
       "    </tr>\n",
       "    <tr>\n",
       "      <th>15</th>\n",
       "      <td>SUP-002</td>\n",
       "      <td>cutlery - fork</td>\n",
       "      <td>7</td>\n",
       "      <td>False</td>\n",
       "      <td>JAF-003</td>\n",
       "    </tr>\n",
       "    <tr>\n",
       "      <th>16</th>\n",
       "      <td>SUP-003</td>\n",
       "      <td>serving boat</td>\n",
       "      <td>11</td>\n",
       "      <td>False</td>\n",
       "      <td>JAF-003</td>\n",
       "    </tr>\n",
       "    <tr>\n",
       "      <th>17</th>\n",
       "      <td>SUP-004</td>\n",
       "      <td>napkin</td>\n",
       "      <td>4</td>\n",
       "      <td>False</td>\n",
       "      <td>JAF-003</td>\n",
       "    </tr>\n",
       "    <tr>\n",
       "      <th>18</th>\n",
       "      <td>SUP-009</td>\n",
       "      <td>bread</td>\n",
       "      <td>33</td>\n",
       "      <td>True</td>\n",
       "      <td>JAF-003</td>\n",
       "    </tr>\n",
       "    <tr>\n",
       "      <th>19</th>\n",
       "      <td>SUP-010</td>\n",
       "      <td>cheese</td>\n",
       "      <td>20</td>\n",
       "      <td>True</td>\n",
       "      <td>JAF-003</td>\n",
       "    </tr>\n",
       "    <tr>\n",
       "      <th>23</th>\n",
       "      <td>SUP-001</td>\n",
       "      <td>compostable cutlery - knife</td>\n",
       "      <td>7</td>\n",
       "      <td>False</td>\n",
       "      <td>JAF-004</td>\n",
       "    </tr>\n",
       "    <tr>\n",
       "      <th>24</th>\n",
       "      <td>SUP-002</td>\n",
       "      <td>cutlery - fork</td>\n",
       "      <td>7</td>\n",
       "      <td>False</td>\n",
       "      <td>JAF-004</td>\n",
       "    </tr>\n",
       "    <tr>\n",
       "      <th>25</th>\n",
       "      <td>SUP-003</td>\n",
       "      <td>serving boat</td>\n",
       "      <td>11</td>\n",
       "      <td>False</td>\n",
       "      <td>JAF-004</td>\n",
       "    </tr>\n",
       "    <tr>\n",
       "      <th>26</th>\n",
       "      <td>SUP-004</td>\n",
       "      <td>napkin</td>\n",
       "      <td>4</td>\n",
       "      <td>False</td>\n",
       "      <td>JAF-004</td>\n",
       "    </tr>\n",
       "    <tr>\n",
       "      <th>27</th>\n",
       "      <td>SUP-009</td>\n",
       "      <td>bread</td>\n",
       "      <td>33</td>\n",
       "      <td>True</td>\n",
       "      <td>JAF-004</td>\n",
       "    </tr>\n",
       "    <tr>\n",
       "      <th>28</th>\n",
       "      <td>SUP-010</td>\n",
       "      <td>cheese</td>\n",
       "      <td>20</td>\n",
       "      <td>True</td>\n",
       "      <td>JAF-004</td>\n",
       "    </tr>\n",
       "    <tr>\n",
       "      <th>32</th>\n",
       "      <td>SUP-001</td>\n",
       "      <td>compostable cutlery - knife</td>\n",
       "      <td>7</td>\n",
       "      <td>False</td>\n",
       "      <td>JAF-005</td>\n",
       "    </tr>\n",
       "    <tr>\n",
       "      <th>33</th>\n",
       "      <td>SUP-002</td>\n",
       "      <td>cutlery - fork</td>\n",
       "      <td>7</td>\n",
       "      <td>False</td>\n",
       "      <td>JAF-005</td>\n",
       "    </tr>\n",
       "    <tr>\n",
       "      <th>34</th>\n",
       "      <td>SUP-003</td>\n",
       "      <td>serving boat</td>\n",
       "      <td>11</td>\n",
       "      <td>False</td>\n",
       "      <td>JAF-005</td>\n",
       "    </tr>\n",
       "    <tr>\n",
       "      <th>35</th>\n",
       "      <td>SUP-004</td>\n",
       "      <td>napkin</td>\n",
       "      <td>4</td>\n",
       "      <td>False</td>\n",
       "      <td>JAF-005</td>\n",
       "    </tr>\n",
       "    <tr>\n",
       "      <th>36</th>\n",
       "      <td>SUP-009</td>\n",
       "      <td>bread</td>\n",
       "      <td>33</td>\n",
       "      <td>True</td>\n",
       "      <td>JAF-005</td>\n",
       "    </tr>\n",
       "    <tr>\n",
       "      <th>37</th>\n",
       "      <td>SUP-010</td>\n",
       "      <td>cheese</td>\n",
       "      <td>20</td>\n",
       "      <td>True</td>\n",
       "      <td>JAF-005</td>\n",
       "    </tr>\n",
       "    <tr>\n",
       "      <th>40</th>\n",
       "      <td>SUP-005</td>\n",
       "      <td>16oz compostable clear cup</td>\n",
       "      <td>13</td>\n",
       "      <td>False</td>\n",
       "      <td>BEV-001</td>\n",
       "    </tr>\n",
       "    <tr>\n",
       "      <th>41</th>\n",
       "      <td>SUP-006</td>\n",
       "      <td>16oz compostable clear lid</td>\n",
       "      <td>4</td>\n",
       "      <td>False</td>\n",
       "      <td>BEV-001</td>\n",
       "    </tr>\n",
       "    <tr>\n",
       "      <th>42</th>\n",
       "      <td>SUP-007</td>\n",
       "      <td>biodegradable straw</td>\n",
       "      <td>13</td>\n",
       "      <td>False</td>\n",
       "      <td>BEV-001</td>\n",
       "    </tr>\n",
       "    <tr>\n",
       "      <th>45</th>\n",
       "      <td>SUP-005</td>\n",
       "      <td>16oz compostable clear cup</td>\n",
       "      <td>13</td>\n",
       "      <td>False</td>\n",
       "      <td>BEV-002</td>\n",
       "    </tr>\n",
       "    <tr>\n",
       "      <th>46</th>\n",
       "      <td>SUP-006</td>\n",
       "      <td>16oz compostable clear lid</td>\n",
       "      <td>4</td>\n",
       "      <td>False</td>\n",
       "      <td>BEV-002</td>\n",
       "    </tr>\n",
       "    <tr>\n",
       "      <th>47</th>\n",
       "      <td>SUP-007</td>\n",
       "      <td>biodegradable straw</td>\n",
       "      <td>13</td>\n",
       "      <td>False</td>\n",
       "      <td>BEV-002</td>\n",
       "    </tr>\n",
       "    <tr>\n",
       "      <th>51</th>\n",
       "      <td>SUP-005</td>\n",
       "      <td>16oz compostable clear cup</td>\n",
       "      <td>13</td>\n",
       "      <td>False</td>\n",
       "      <td>BEV-003</td>\n",
       "    </tr>\n",
       "    <tr>\n",
       "      <th>52</th>\n",
       "      <td>SUP-006</td>\n",
       "      <td>16oz compostable clear lid</td>\n",
       "      <td>4</td>\n",
       "      <td>False</td>\n",
       "      <td>BEV-003</td>\n",
       "    </tr>\n",
       "    <tr>\n",
       "      <th>53</th>\n",
       "      <td>SUP-007</td>\n",
       "      <td>biodegradable straw</td>\n",
       "      <td>13</td>\n",
       "      <td>False</td>\n",
       "      <td>BEV-003</td>\n",
       "    </tr>\n",
       "    <tr>\n",
       "      <th>54</th>\n",
       "      <td>SUP-026</td>\n",
       "      <td>coffee</td>\n",
       "      <td>52</td>\n",
       "      <td>True</td>\n",
       "      <td>BEV-003</td>\n",
       "    </tr>\n",
       "    <tr>\n",
       "      <th>56</th>\n",
       "      <td>SUP-005</td>\n",
       "      <td>16oz compostable clear cup</td>\n",
       "      <td>13</td>\n",
       "      <td>False</td>\n",
       "      <td>BEV-004</td>\n",
       "    </tr>\n",
       "    <tr>\n",
       "      <th>57</th>\n",
       "      <td>SUP-006</td>\n",
       "      <td>16oz compostable clear lid</td>\n",
       "      <td>4</td>\n",
       "      <td>False</td>\n",
       "      <td>BEV-004</td>\n",
       "    </tr>\n",
       "    <tr>\n",
       "      <th>58</th>\n",
       "      <td>SUP-007</td>\n",
       "      <td>biodegradable straw</td>\n",
       "      <td>13</td>\n",
       "      <td>False</td>\n",
       "      <td>BEV-004</td>\n",
       "    </tr>\n",
       "    <tr>\n",
       "      <th>59</th>\n",
       "      <td>SUP-026</td>\n",
       "      <td>coffee</td>\n",
       "      <td>52</td>\n",
       "      <td>True</td>\n",
       "      <td>BEV-004</td>\n",
       "    </tr>\n",
       "    <tr>\n",
       "      <th>60</th>\n",
       "      <td>SUP-005</td>\n",
       "      <td>16oz compostable clear cup</td>\n",
       "      <td>13</td>\n",
       "      <td>False</td>\n",
       "      <td>BEV-005</td>\n",
       "    </tr>\n",
       "    <tr>\n",
       "      <th>61</th>\n",
       "      <td>SUP-006</td>\n",
       "      <td>16oz compostable clear lid</td>\n",
       "      <td>4</td>\n",
       "      <td>False</td>\n",
       "      <td>BEV-005</td>\n",
       "    </tr>\n",
       "    <tr>\n",
       "      <th>62</th>\n",
       "      <td>SUP-007</td>\n",
       "      <td>biodegradable straw</td>\n",
       "      <td>13</td>\n",
       "      <td>False</td>\n",
       "      <td>BEV-005</td>\n",
       "    </tr>\n",
       "  </tbody>\n",
       "</table>\n",
       "</div>"
      ],
      "text/plain": [
       "         id                         name  cost  perishable      sku\n",
       "0   SUP-001  compostable cutlery - knife     7       False  JAF-001\n",
       "1   SUP-002               cutlery - fork     7       False  JAF-001\n",
       "2   SUP-003                 serving boat    11       False  JAF-001\n",
       "3   SUP-004                       napkin     4       False  JAF-001\n",
       "4   SUP-009                        bread    33        True  JAF-001\n",
       "7   SUP-001  compostable cutlery - knife     7       False  JAF-002\n",
       "8   SUP-002               cutlery - fork     7       False  JAF-002\n",
       "9   SUP-003                 serving boat    11       False  JAF-002\n",
       "10  SUP-004                       napkin     4       False  JAF-002\n",
       "11  SUP-009                        bread    33        True  JAF-002\n",
       "12  SUP-010                       cheese    20        True  JAF-002\n",
       "14  SUP-001  compostable cutlery - knife     7       False  JAF-003\n",
       "15  SUP-002               cutlery - fork     7       False  JAF-003\n",
       "16  SUP-003                 serving boat    11       False  JAF-003\n",
       "17  SUP-004                       napkin     4       False  JAF-003\n",
       "18  SUP-009                        bread    33        True  JAF-003\n",
       "19  SUP-010                       cheese    20        True  JAF-003\n",
       "23  SUP-001  compostable cutlery - knife     7       False  JAF-004\n",
       "24  SUP-002               cutlery - fork     7       False  JAF-004\n",
       "25  SUP-003                 serving boat    11       False  JAF-004\n",
       "26  SUP-004                       napkin     4       False  JAF-004\n",
       "27  SUP-009                        bread    33        True  JAF-004\n",
       "28  SUP-010                       cheese    20        True  JAF-004\n",
       "32  SUP-001  compostable cutlery - knife     7       False  JAF-005\n",
       "33  SUP-002               cutlery - fork     7       False  JAF-005\n",
       "34  SUP-003                 serving boat    11       False  JAF-005\n",
       "35  SUP-004                       napkin     4       False  JAF-005\n",
       "36  SUP-009                        bread    33        True  JAF-005\n",
       "37  SUP-010                       cheese    20        True  JAF-005\n",
       "40  SUP-005   16oz compostable clear cup    13       False  BEV-001\n",
       "41  SUP-006   16oz compostable clear lid     4       False  BEV-001\n",
       "42  SUP-007          biodegradable straw    13       False  BEV-001\n",
       "45  SUP-005   16oz compostable clear cup    13       False  BEV-002\n",
       "46  SUP-006   16oz compostable clear lid     4       False  BEV-002\n",
       "47  SUP-007          biodegradable straw    13       False  BEV-002\n",
       "51  SUP-005   16oz compostable clear cup    13       False  BEV-003\n",
       "52  SUP-006   16oz compostable clear lid     4       False  BEV-003\n",
       "53  SUP-007          biodegradable straw    13       False  BEV-003\n",
       "54  SUP-026                       coffee    52        True  BEV-003\n",
       "56  SUP-005   16oz compostable clear cup    13       False  BEV-004\n",
       "57  SUP-006   16oz compostable clear lid     4       False  BEV-004\n",
       "58  SUP-007          biodegradable straw    13       False  BEV-004\n",
       "59  SUP-026                       coffee    52        True  BEV-004\n",
       "60  SUP-005   16oz compostable clear cup    13       False  BEV-005\n",
       "61  SUP-006   16oz compostable clear lid     4       False  BEV-005\n",
       "62  SUP-007          biodegradable straw    13       False  BEV-005"
      ]
     },
     "execution_count": 147,
     "metadata": {},
     "output_type": "execute_result"
    }
   ],
   "source": [
    "# Vérification des lignes en doublon pour 'id'\n",
    "df_supplies[df_supplies['id'].duplicated(keep=False)]"
   ]
  },
  {
   "cell_type": "markdown",
   "metadata": {},
   "source": [
    "- Les doublons observés dans `id` sont dus à une relation multiple entre les approvisionnements (`supplies`) et les produits (`sku`). Cela ne semble pas être une anomalie mais un choix de conception des données.\n",
    "- Pour garantir l'unicité, il faudra certainement combiner les colonnes `id` et `sku` comme clé unique."
   ]
  },
  {
   "cell_type": "markdown",
   "metadata": {},
   "source": [
    "#### Résumé des Observations\n",
    "\n",
    "Le jeu de données contient plusieurs tables interconnectées.\n",
    "\n",
    "Voici les observations sur leur structure et les relations potentielles, basées sur la description des données et l'analyse réalisée :\n",
    "\n",
    "---\n",
    "\n",
    "##### **raw_customers.csv**\n",
    "- **Description** : Contient des informations sur les clients.\n",
    "- **Colonnes** :\n",
    "  - `id` (PK) : Identifiant unique du client.\n",
    "  - `name` : Nom du client.\n",
    "- **Observations** :\n",
    "  - La colonne `id` est une clé primaire unique, sans valeur manquante.\n",
    "- **Utilité** : Cette table servira de dimension dans le schéma, représentant les clients.\n",
    "\n",
    "---\n",
    "\n",
    "##### **raw_items.csv**\n",
    "- **Description** : Contient les détails des articles commandés.\n",
    "- **Colonnes** :\n",
    "  - `id` (PK) : Identifiant unique de l'article commandé.\n",
    "  - `order_id` (FK) : Référence à une commande (lié à `raw_orders.id`).\n",
    "  - `sku` : Code de gestion des stocks pour l'article (lié à `raw_products.sku`).\n",
    "- **Observations** :\n",
    "  - La colonne `id` est une clé primaire unique.\n",
    "  - La colonne `order_id` agit comme une clé étrangère vers `raw_orders`.\n",
    "  - La colonne `sku` est liée à `raw_products`.\n",
    "- **Utilité** : Cette table pourrait être utilisée comme table de faits, reliant les commandes et les produits.\n",
    "\n",
    "---\n",
    "\n",
    "##### **raw_orders.csv**\n",
    "- **Description** : Contient les informations sur les commandes passées.\n",
    "- **Colonnes** :\n",
    "  - `id` (PK) : Identifiant unique de la commande.\n",
    "  - `customer_id` (FK) : Référence à un client (lié à `raw_customers.id`).\n",
    "  - `ordered_at` : Date et heure de la commande.\n",
    "  - `store_id` (FK) : Référence au magasin où la commande a été passée (lié à `raw_stores.id`).\n",
    "- **Observations** :\n",
    "  - La colonne `id` est une clé primaire unique.\n",
    "  - Les colonnes `customer_id` et `store_id` agissent comme des clés étrangères vers `raw_customers` et `raw_stores`, respectivement.\n",
    "- **Utilité** : Cette table servira de table de faits ou de lien avec d'autres dimensions.\n",
    "\n",
    "---\n",
    "\n",
    "##### **raw_products.csv**\n",
    "- **Description** : Détails des produits disponibles.\n",
    "- **Colonnes** :\n",
    "  - `sku` (PK) : Code de gestion des stocks pour le produit.\n",
    "  - `name` : Nom du produit.\n",
    "  - `type` : Type ou catégorie du produit.\n",
    "  - `price` : Prix du produit.\n",
    "  - `description` : Description du produit.\n",
    "- **Observations** :\n",
    "  - La colonne `sku` est une clé primaire unique.\n",
    "  - Les informations de prix et de type peuvent être utilisées pour des analyses détaillées.\n",
    "- **Utilité** : Table de dimension décrivant les produits.\n",
    "\n",
    "---\n",
    "\n",
    "##### **raw_stores.csv**\n",
    "- **Description** : Informations sur les magasins.\n",
    "- **Colonnes** :\n",
    "  - `id` (PK) : Identifiant unique du magasin.\n",
    "  - `name` : Nom du magasin / Localisation, nom de la ville\n",
    "  - `opened_at` : Date d'ouverture du magasin. (supprimer les heures)\n",
    "  - `tax_rate` : Taux de taxe applicable au magasin.\n",
    "- **Observations** :\n",
    "  - La colonne `id` est une clé primaire unique.\n",
    "  - La colonne `tax_rate` pourrait être utilisée pour calculer les taxes sur les commandes.\n",
    "- **Utilité** : Table de dimension décrivant les magasins.\n",
    "\n",
    "---\n",
    "\n",
    "##### **raw_supplies.csv**\n",
    "- **Description** : Contient des informations sur les approvisionnements.\n",
    "- **Colonnes** :\n",
    "  - `id` : Identifiant de l'approvisionnement (non unique).\n",
    "  - `name` : Nom de l'approvisionnement.\n",
    "  - `cost` : Coût de l'approvisionnement.\n",
    "  - `perishable` : Indique si l'approvisionnement est périssable.\n",
    "  - `sku` (FK) : Code de gestion des stocks pour l'approvisionnement (lié à `raw_products.sku`).\n",
    "- **Observations** :\n",
    "  - La colonne `id` contient des doublons. Chaque `id` est associé à plusieurs valeurs distinctes de `sku`. Cela suggère que la véritable unicité réside dans la combinaison des colonnes `id` et `sku`.\n",
    "  - La colonne `sku` agit comme une clé étrangère vers `raw_products`.\n",
    "- **Utilité** : Cette table est utile pour analyser les coûts et les approvisionnements liés aux produits. La clé primaire pourrait être redéfinie comme une combinaison de `id` et `sku`.\n",
    "\n",
    "---\n",
    "\n",
    "#### Relations Identifiées\n",
    "- **Clés primaires (PK)** :\n",
    "  - Chaque table possède une colonne unique utilisée comme clé primaire (`id` ou `sku`), sauf pour `raw_supplies`, où la combinaison `id` + `sku` est nécessaire pour garantir l'unicité.\n",
    "\n",
    "- **Clés étrangères (FK)** :\n",
    "  - `raw_orders.customer_id` → `raw_customers.id`\n",
    "  - `raw_orders.store_id` → `raw_stores.id`\n",
    "  - `raw_items.order_id` → `raw_orders.id`\n",
    "  - `raw_items.sku` → `raw_products.sku`\n",
    "  - `raw_supplies.sku` → `raw_products.sku`\n",
    "\n",
    "- **Relations principales** :\n",
    "  - Les commandes (`raw_orders`) relient les clients (`raw_customers`), les magasins (`raw_stores`), et les articles commandés (`raw_items`).\n",
    "  - Les produits (`raw_products`) sont liés aux articles (`raw_items`) et aux approvisionnements (`raw_supplies`)."
   ]
  },
  {
   "cell_type": "markdown",
   "metadata": {},
   "source": [
    "### 1.2 Schéma de la Base de Données Relationnelle Brute"
   ]
  },
  {
   "cell_type": "markdown",
   "metadata": {},
   "source": [
    "- Le schéma de la base de données brute reflète l’organisation des données opérationnelles de l'entreprise et identifie les relations entre les tables.\n",
    "\n",
    "- Pour visualiser ce schéma, nous utilisons **dbdiagram.io**, un outil adapté pour représenter les tables, leurs clés primaires (PK) et clés étrangères (FK).\n",
    "\n",
    "- L’observation des PK et FK permettra d’établir les relations entre les tables et de définir leurs cardinalités.\n",
    "\n",
    "- L’objectif est de préparer un diagramme relationnel clair servant de base à la dénormalisation en vue de la création d’un Data Warehouse optimisé."
   ]
  },
  {
   "cell_type": "markdown",
   "metadata": {},
   "source": [
    "![Schéma de la BDD Brute](../data/images/Schema%20ETL%20Cloud%20Computing%20BDD%20brute.png)"
   ]
  },
  {
   "cell_type": "markdown",
   "metadata": {},
   "source": []
  }
 ],
 "metadata": {
  "kernelspec": {
   "display_name": "ETL-Cloud-Computing",
   "language": "python",
   "name": "python3"
  },
  "language_info": {
   "codemirror_mode": {
    "name": "ipython",
    "version": 3
   },
   "file_extension": ".py",
   "mimetype": "text/x-python",
   "name": "python",
   "nbconvert_exporter": "python",
   "pygments_lexer": "ipython3",
   "version": "3.12.8"
  }
 },
 "nbformat": 4,
 "nbformat_minor": 2
}
